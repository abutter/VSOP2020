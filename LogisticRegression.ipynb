{
 "cells": [
  {
   "cell_type": "markdown",
   "metadata": {},
   "source": [
    "# Logistic Regression\n",
    "\n",
    "Welcome to the second exercise. The aim of this exercise is to implement a simple classification algorithm including gradient descent.\n",
    "\n",
    "Let's start again by importing the necessary packages."
   ]
  },
  {
   "cell_type": "code",
   "execution_count": null,
   "metadata": {},
   "outputs": [],
   "source": [
    "import numpy as np\n",
    "import matplotlib.pyplot as plt"
   ]
  },
  {
   "cell_type": "markdown",
   "metadata": {},
   "source": [
    "Next we need a dataset. Each datapoint consists of a two dimensional feature vector and a label."
   ]
  },
  {
   "cell_type": "code",
   "execution_count": null,
   "metadata": {},
   "outputs": [],
   "source": [
    "n_events = 100 #events per class\n",
    "\n",
    "x1 = np.random.multivariate_normal((2,4), [[0.5,0],[0,0.5]],(n_events,)) #events of type1\n",
    "x2 = np.random.multivariate_normal((3,3), [[0.5,0],[0,0.5]],(n_events,)) #events of type2\n",
    "X = np.concatenate([x1, x2], axis = 0)\n",
    "\n",
    "Y = [0]*n_events + [1]*n_events      #label\n",
    "Y = np.array(Y)"
   ]
  },
  {
   "cell_type": "markdown",
   "metadata": {},
   "source": [
    "First we want to visualize the data."
   ]
  },
  {
   "cell_type": "code",
   "execution_count": null,
   "metadata": {},
   "outputs": [],
   "source": [
    "plt.plot(X[:,0], X[:,1], 'r+')   #XXX improve the plotting sothat events with different label have different markers/colors"
   ]
  },
  {
   "cell_type": "markdown",
   "metadata": {},
   "source": [
    "Next we want to define our model with initial parameters."
   ]
  },
  {
   "cell_type": "code",
   "execution_count": null,
   "metadata": {},
   "outputs": [],
   "source": [
    "w0 = np.array([0.5, 0.5])\n",
    "def model(x,w):\n",
    "    return 1./(1.+np.exp(np.dot(x,w)))\n",
    "\n",
    "model(X,w0)"
   ]
  },
  {
   "cell_type": "markdown",
   "metadata": {},
   "source": [
    "Next we have to define the loss. \n",
    "Then we can update the weights using gradient descent. \n",
    "After each update we want to store the loss and the new weights."
   ]
  },
  {
   "cell_type": "code",
   "execution_count": null,
   "metadata": {},
   "outputs": [],
   "source": [
    "def logloss(w, x):\n",
    "    return 0     #XXXX fix the loss\n",
    "    \n",
    "\n",
    "w = w0\n",
    "\n",
    "n_epochs = 100\n",
    "learning_rate = 0.1\n",
    "\n",
    "loss_list=[]\n",
    "for epoch in range(n_epochs):\n",
    "    #print('epoch', epoch)\n",
    "    w = w - learning_rate    #XXXX fix the weight update\n",
    "    loss = 0                 #XXXX save the correct loss\n",
    "    loss_list.append(loss)\n",
    "    "
   ]
  },
  {
   "cell_type": "markdown",
   "metadata": {},
   "source": [
    "Now we want to see how the loss decreases during training. You can try out different values for the learning rate to see for which value the training converges best."
   ]
  },
  {
   "cell_type": "code",
   "execution_count": null,
   "metadata": {},
   "outputs": [],
   "source": [
    "#XXXX Plot the loss over the training epochs"
   ]
  },
  {
   "cell_type": "markdown",
   "metadata": {},
   "source": [
    "Now use the found optimal parameters to classify the dataset. Choose a suitable visualization."
   ]
  },
  {
   "cell_type": "code",
   "execution_count": null,
   "metadata": {},
   "outputs": [],
   "source": [
    "#XXXX Find a visualization for your final model."
   ]
  },
  {
   "cell_type": "markdown",
   "metadata": {},
   "source": [
    "Congratulations! You have finished the second exercise!\n",
    "In the next exercise we will move on to neural networks, which we will train on real data!\n",
    "\n",
    "Basic algortihms like logistic regression are implemented 'ready-to-use' in packages. If you want to try it out, take a look at the sklearn library.\n",
    "You can import logistic regression via \n",
    "\n",
    "    from sklearn.linear_model import LogisticRegression\n",
    "    \n",
    "Then initialize a classifier via \n",
    "\n",
    "    LogisticRegression(\n",
    "        C=10, \n",
    "        penalty='none',\n",
    "        solver='saga',\n",
    "        multi_class='ovr',\n",
    "        max_iter=10000\n",
    "    )\n",
    "\n",
    "Fit to data X with label Y via\n",
    "\n",
    "    classifier.fit(X, y)\n",
    "    \n",
    "and finally predict labels via\n",
    "\n",
    "    y_pred = classifier.predict(X)"
   ]
  }
 ],
 "metadata": {
  "kernelspec": {
   "display_name": "Python 3",
   "language": "python",
   "name": "python3"
  },
  "language_info": {
   "codemirror_mode": {
    "name": "ipython",
    "version": 3
   },
   "file_extension": ".py",
   "mimetype": "text/x-python",
   "name": "python",
   "nbconvert_exporter": "python",
   "pygments_lexer": "ipython3",
   "version": "3.7.1"
  }
 },
 "nbformat": 4,
 "nbformat_minor": 4
}
