{
 "cells": [
  {
   "cell_type": "markdown",
   "metadata": {},
   "source": [
    "# Linear Regression\n",
    "\n",
    "This exercise serves as a quick reminder for the basics of python, numpy and plt. Most of the code is ready to be used. However a few crucial parts marked by 'XXXX' still have to be inserted or corrected, in order to turn it into a working example.\n",
    "\n",
    "Let's start!\n",
    "\n",
    "First we have to import the necessary packages:"
   ]
  },
  {
   "cell_type": "code",
   "execution_count": null,
   "metadata": {},
   "outputs": [],
   "source": [
    "import numpy as np\n",
    "import matplotlib.pyplot as plt"
   ]
  },
  {
   "cell_type": "markdown",
   "metadata": {},
   "source": [
    "Next we create some toy data. The generated data follow a smeared linear function ($mx+b$). The function np.random.rand generates random numbers uniformly distributed between 0 and 1. The function np.random.normal generates random numbers following a Gaussian with mean 'loc' and width 'scale'. "
   ]
  },
  {
   "cell_type": "code",
   "execution_count": null,
   "metadata": {},
   "outputs": [],
   "source": [
    "\n",
    "n_events = 100\n",
    "m = 1.8\n",
    "b = 1.\n",
    "x = 10. * np.random.rand(n_events)\n",
    "noise = np.random.normal(loc = 0., scale = 0.1*x, size=n_events)\n",
    "y = m*x+b + noise\n",
    "\n",
    "print(y[:10])"
   ]
  },
  {
   "cell_type": "markdown",
   "metadata": {},
   "source": [
    "Let's take a look at our data:"
   ]
  },
  {
   "cell_type": "code",
   "execution_count": null,
   "metadata": {},
   "outputs": [],
   "source": [
    "plt.plot(x,y,'r+')\n",
    "plt.title('Linear electromagnetic calorimeter')\n",
    "plt.xlabel('$E$ [GeV]')\n",
    "plt.ylabel('signal [#photoelectrons * $10^{-3}$]')"
   ]
  },
  {
   "cell_type": "markdown",
   "metadata": {},
   "source": [
    "A linear function should be a good fit. Let's try out a few test functions (hypotheses)."
   ]
  },
  {
   "cell_type": "code",
   "execution_count": null,
   "metadata": {},
   "outputs": [],
   "source": [
    "plt.plot(x,y,'r+')        #XXXX r+ defines the color and and shape of the markers. Can you change them to blue circles?\n",
    "plt.title('Linear electromagnetic calorimeter')\n",
    "plt.xlabel('$E$ [GeV]')\n",
    "plt.ylabel('signal [#photoelectrons * $10^{-3}$]')\n",
    "\n",
    "xf = np.arange(0,10, 0.1)\n",
    "np.random.seed(1)    #Fixing the random seed allows us to reproduce the same results when we rerun this cell.\n",
    "test_param = np.random.multivariate_normal(\n",
    "    np.array([m, b]), \n",
    "    cov=np.array([[0.01,0],[0,0.1]]), \n",
    "    size = 5\n",
    ")\n",
    "\n",
    "print('Test parameters:\\n', test_param)\n",
    "for (m_try, b_try) in test_param:\n",
    "    plt.plot(xf, xf*(m_try)+ b_try)\n"
   ]
  },
  {
   "cell_type": "markdown",
   "metadata": {},
   "source": [
    "In order to see which of the test parameters describes the data best, we have to define a measure. For this example we choose to implement the mean squared error."
   ]
  },
  {
   "cell_type": "code",
   "execution_count": null,
   "metadata": {},
   "outputs": [],
   "source": [
    "def MSE(a,b):\n",
    "  return np.sum(b) #XXXX This is clearly not the mean squared error. Implement the right formula."
   ]
  },
  {
   "cell_type": "markdown",
   "metadata": {},
   "source": [
    "Let us see how well our test parameters are doing."
   ]
  },
  {
   "cell_type": "code",
   "execution_count": null,
   "metadata": {},
   "outputs": [],
   "source": [
    "for m_test, b_test in test_param:\n",
    "  \n",
    "  y_test = m_test*x + b_test\n",
    "  mse = MSE(y_test, y)\n",
    "  \n",
    "  print('m=', m_test, ', b=', b_test, ':')\n",
    "  print('MSE=', mse, '\\n')"
   ]
  },
  {
   "cell_type": "markdown",
   "metadata": {},
   "source": [
    "In the lecture we have seen how we can compute the parameter values that minimize the mean squared error. Calculate the optimal parameters and see how the resulting function compares to the data."
   ]
  },
  {
   "cell_type": "code",
   "execution_count": null,
   "metadata": {},
   "outputs": [],
   "source": [
    "y_mean = 0. #XXXX fix this\n",
    "x_mean = 0. #XXXX fix this\n",
    "\n",
    "w1 = 0. #XXXX fix this\n",
    "w2 = 0. #XXXX fix this\n",
    "\n",
    "y_opt = w1 * x + w2\n",
    "print('m=', w1, ', b=', w2 ,':')\n",
    "print('MSE_min = ', MSE(y_opt, y))"
   ]
  },
  {
   "cell_type": "code",
   "execution_count": null,
   "metadata": {},
   "outputs": [],
   "source": [
    "plt.plot(x,y,'r+')\n",
    "xf = np.arange(0,10, 0.1)\n",
    "plt.plot(xf, xf*w1+ w2)\n",
    "\n",
    "plt.title('Linear electromagnetic calorimeter')\n",
    "plt.xlabel('$E$ [GeV]')\n",
    "plt.ylabel('signal [#photoelectrons * $10^{-3}$]')"
   ]
  },
  {
   "cell_type": "markdown",
   "metadata": {},
   "source": [
    "Congratulations you have finished the first exercise!"
   ]
  }
 ],
 "metadata": {
  "kernelspec": {
   "display_name": "Python 3",
   "language": "python",
   "name": "python3"
  },
  "language_info": {
   "codemirror_mode": {
    "name": "ipython",
    "version": 3
   },
   "file_extension": ".py",
   "mimetype": "text/x-python",
   "name": "python",
   "nbconvert_exporter": "python",
   "pygments_lexer": "ipython3",
   "version": "3.7.1"
  }
 },
 "nbformat": 4,
 "nbformat_minor": 4
}
